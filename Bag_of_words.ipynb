{
  "cells": [
    {
      "cell_type": "markdown",
      "metadata": {
        "id": "JnUe44FyE0JX"
      },
      "source": [
        "# Análise de Sentimento - Bag of Words Meets Bag of Popcorn\n",
        "\n",
        "O presente projeto foi realizado para a disciplina Programação para Aprendizagem de Máquina, da pós graduação em Ciência de Dados da Universidade Federal de Pernambuco.\n",
        "\n",
        "Foi utilizada a base de dados da competição do Kaggle \"Bag of words meet bags of popcorns\", que contém 50.000 comentários a respeito de filmes no site do IMDb. Os comentários são divididos em 2 grupos: os que foram acompanhados de notas inferiores a 5 estrelas -rotulados como 0- são de comentários com sentimento negativo a respeito do filme, os que foram acompanhados de notas superiores a 7 -rotulados com 1- são comentários com sentimento positivo.\n",
        "\n",
        "O objetivo do projeto criar um modelo para prever o sentimento do comentário."
      ]
    },
    {
      "cell_type": "markdown",
      "metadata": {
        "id": "XLFzq1qeE0Jc"
      },
      "source": [
        "## Preparando o ambiente"
      ]
    },
    {
      "cell_type": "code",
      "execution_count": null,
      "metadata": {
        "id": "4fe6PP4zE49F",
        "colab": {
          "base_uri": "https://localhost:8080/"
        },
        "outputId": "dc815ae1-cceb-41e8-bd84-77b5a7572e2b"
      },
      "outputs": [
        {
          "output_type": "stream",
          "name": "stdout",
          "text": [
            "Mounted at /content/gdrive\n",
            "/content/gdrive/MyDrive\n"
          ]
        }
      ],
      "source": [
        "# Código para o Colab\n",
        "\n",
        "from google.colab import drive\n",
        "drive.mount('/content/gdrive', force_remount=True)\n",
        "\n",
        "%cd /content/gdrive/MyDrive/"
      ]
    },
    {
      "cell_type": "code",
      "execution_count": null,
      "metadata": {
        "id": "8kdnTPHDE0Je"
      },
      "outputs": [],
      "source": [
        "#Importando bibliotecas relevantes\n",
        "\n",
        "import pandas as pd #Biblioteca para visualização e manipulação de dataframes\n",
        "import numpy as np #Biblioteca com métodos matemáticos como geração aleatória de números, algebra linear, etc\n",
        "\n",
        "#Bibliotecas gráficas para visualização de dados\n",
        "import matplotlib.pyplot as plt\n",
        "import seaborn as sns\n",
        "\n",
        "import nltk #Biblioteca para processamento simbólico e estatístico de linguagem natural\n",
        "from nltk.corpus import stopwords\n",
        "\n",
        "from tqdm import tqdm #Biblioteca para visualização do processamos de uma iteração"
      ]
    },
    {
      "cell_type": "code",
      "execution_count": null,
      "metadata": {
        "id": "P1dWI53-E0Ji"
      },
      "outputs": [],
      "source": [
        "#Importando base de dados\n",
        "train = pd.read_csv('labeledTrainData.tsv',sep='\\t')\n",
        "\n",
        "train.review = [x.replace(\".\",\"\").replace(\",\",\"\").replace(\"!\",\"\").\n",
        "                replace(\"(\",\"\").replace(\")\",\"\").replace(\"?\",\"\").\n",
        "                replace(\"<br\",\"\").replace(\"<\",\"\").replace(\"\\t\",\"\")\n",
        "                .replace(\">\",\"\").replace(\"...\",\"\").replace(\"\\\\\",\"\").replace(\"\\\"\",\"\") for x in train.review]\n",
        "\n",
        "train.review\n",
        "\n",
        "test = pd.read_csv('testData.tsv',sep='\\t')\n",
        "test.review = [x.replace(\".\",\"\").replace(\",\",\"\").replace(\"!\",\"\").\n",
        "                replace(\"(\",\"\").replace(\")\",\"\").replace(\"?\",\"\").\n",
        "                replace(\"<br\",\"\").replace(\"<\",\"\").replace(\"\\t\",\"\")\n",
        "                .replace(\">\",\"\").replace(\"...\",\"\").replace(\"\\\\\",\"\").replace(\"\\\"\",\"\") for x in test.review]\n",
        "\n"
      ]
    },
    {
      "cell_type": "code",
      "execution_count": null,
      "metadata": {
        "colab": {
          "base_uri": "https://localhost:8080/",
          "height": 206
        },
        "id": "dEvgJLAYE0Jk",
        "outputId": "870c6b5b-a6f2-4d88-b7a5-6efe7aa31063"
      },
      "outputs": [
        {
          "output_type": "execute_result",
          "data": {
            "text/plain": [
              "       id  sentiment                                             review\n",
              "0  5814_8          1  With all this stuff going down at the moment w...\n",
              "1  2381_9          1  The Classic War of the Worlds by Timothy Hines...\n",
              "2  7759_3          0  The film starts with a manager Nicholas Bell g...\n",
              "3  3630_4          0  It must be assumed that those who praised this...\n",
              "4  9495_8          1  Superbly trashy and wondrously unpretentious 8..."
            ],
            "text/html": [
              "\n",
              "  <div id=\"df-ac27fe55-a20b-45cc-92ab-567531b54445\">\n",
              "    <div class=\"colab-df-container\">\n",
              "      <div>\n",
              "<style scoped>\n",
              "    .dataframe tbody tr th:only-of-type {\n",
              "        vertical-align: middle;\n",
              "    }\n",
              "\n",
              "    .dataframe tbody tr th {\n",
              "        vertical-align: top;\n",
              "    }\n",
              "\n",
              "    .dataframe thead th {\n",
              "        text-align: right;\n",
              "    }\n",
              "</style>\n",
              "<table border=\"1\" class=\"dataframe\">\n",
              "  <thead>\n",
              "    <tr style=\"text-align: right;\">\n",
              "      <th></th>\n",
              "      <th>id</th>\n",
              "      <th>sentiment</th>\n",
              "      <th>review</th>\n",
              "    </tr>\n",
              "  </thead>\n",
              "  <tbody>\n",
              "    <tr>\n",
              "      <th>0</th>\n",
              "      <td>5814_8</td>\n",
              "      <td>1</td>\n",
              "      <td>With all this stuff going down at the moment w...</td>\n",
              "    </tr>\n",
              "    <tr>\n",
              "      <th>1</th>\n",
              "      <td>2381_9</td>\n",
              "      <td>1</td>\n",
              "      <td>The Classic War of the Worlds by Timothy Hines...</td>\n",
              "    </tr>\n",
              "    <tr>\n",
              "      <th>2</th>\n",
              "      <td>7759_3</td>\n",
              "      <td>0</td>\n",
              "      <td>The film starts with a manager Nicholas Bell g...</td>\n",
              "    </tr>\n",
              "    <tr>\n",
              "      <th>3</th>\n",
              "      <td>3630_4</td>\n",
              "      <td>0</td>\n",
              "      <td>It must be assumed that those who praised this...</td>\n",
              "    </tr>\n",
              "    <tr>\n",
              "      <th>4</th>\n",
              "      <td>9495_8</td>\n",
              "      <td>1</td>\n",
              "      <td>Superbly trashy and wondrously unpretentious 8...</td>\n",
              "    </tr>\n",
              "  </tbody>\n",
              "</table>\n",
              "</div>\n",
              "      <button class=\"colab-df-convert\" onclick=\"convertToInteractive('df-ac27fe55-a20b-45cc-92ab-567531b54445')\"\n",
              "              title=\"Convert this dataframe to an interactive table.\"\n",
              "              style=\"display:none;\">\n",
              "        \n",
              "  <svg xmlns=\"http://www.w3.org/2000/svg\" height=\"24px\"viewBox=\"0 0 24 24\"\n",
              "       width=\"24px\">\n",
              "    <path d=\"M0 0h24v24H0V0z\" fill=\"none\"/>\n",
              "    <path d=\"M18.56 5.44l.94 2.06.94-2.06 2.06-.94-2.06-.94-.94-2.06-.94 2.06-2.06.94zm-11 1L8.5 8.5l.94-2.06 2.06-.94-2.06-.94L8.5 2.5l-.94 2.06-2.06.94zm10 10l.94 2.06.94-2.06 2.06-.94-2.06-.94-.94-2.06-.94 2.06-2.06.94z\"/><path d=\"M17.41 7.96l-1.37-1.37c-.4-.4-.92-.59-1.43-.59-.52 0-1.04.2-1.43.59L10.3 9.45l-7.72 7.72c-.78.78-.78 2.05 0 2.83L4 21.41c.39.39.9.59 1.41.59.51 0 1.02-.2 1.41-.59l7.78-7.78 2.81-2.81c.8-.78.8-2.07 0-2.86zM5.41 20L4 18.59l7.72-7.72 1.47 1.35L5.41 20z\"/>\n",
              "  </svg>\n",
              "      </button>\n",
              "      \n",
              "  <style>\n",
              "    .colab-df-container {\n",
              "      display:flex;\n",
              "      flex-wrap:wrap;\n",
              "      gap: 12px;\n",
              "    }\n",
              "\n",
              "    .colab-df-convert {\n",
              "      background-color: #E8F0FE;\n",
              "      border: none;\n",
              "      border-radius: 50%;\n",
              "      cursor: pointer;\n",
              "      display: none;\n",
              "      fill: #1967D2;\n",
              "      height: 32px;\n",
              "      padding: 0 0 0 0;\n",
              "      width: 32px;\n",
              "    }\n",
              "\n",
              "    .colab-df-convert:hover {\n",
              "      background-color: #E2EBFA;\n",
              "      box-shadow: 0px 1px 2px rgba(60, 64, 67, 0.3), 0px 1px 3px 1px rgba(60, 64, 67, 0.15);\n",
              "      fill: #174EA6;\n",
              "    }\n",
              "\n",
              "    [theme=dark] .colab-df-convert {\n",
              "      background-color: #3B4455;\n",
              "      fill: #D2E3FC;\n",
              "    }\n",
              "\n",
              "    [theme=dark] .colab-df-convert:hover {\n",
              "      background-color: #434B5C;\n",
              "      box-shadow: 0px 1px 3px 1px rgba(0, 0, 0, 0.15);\n",
              "      filter: drop-shadow(0px 1px 2px rgba(0, 0, 0, 0.3));\n",
              "      fill: #FFFFFF;\n",
              "    }\n",
              "  </style>\n",
              "\n",
              "      <script>\n",
              "        const buttonEl =\n",
              "          document.querySelector('#df-ac27fe55-a20b-45cc-92ab-567531b54445 button.colab-df-convert');\n",
              "        buttonEl.style.display =\n",
              "          google.colab.kernel.accessAllowed ? 'block' : 'none';\n",
              "\n",
              "        async function convertToInteractive(key) {\n",
              "          const element = document.querySelector('#df-ac27fe55-a20b-45cc-92ab-567531b54445');\n",
              "          const dataTable =\n",
              "            await google.colab.kernel.invokeFunction('convertToInteractive',\n",
              "                                                     [key], {});\n",
              "          if (!dataTable) return;\n",
              "\n",
              "          const docLinkHtml = 'Like what you see? Visit the ' +\n",
              "            '<a target=\"_blank\" href=https://colab.research.google.com/notebooks/data_table.ipynb>data table notebook</a>'\n",
              "            + ' to learn more about interactive tables.';\n",
              "          element.innerHTML = '';\n",
              "          dataTable['output_type'] = 'display_data';\n",
              "          await google.colab.output.renderOutput(dataTable, element);\n",
              "          const docLink = document.createElement('div');\n",
              "          docLink.innerHTML = docLinkHtml;\n",
              "          element.appendChild(docLink);\n",
              "        }\n",
              "      </script>\n",
              "    </div>\n",
              "  </div>\n",
              "  "
            ]
          },
          "metadata": {},
          "execution_count": 4
        }
      ],
      "source": [
        "train.head()"
      ]
    },
    {
      "cell_type": "code",
      "execution_count": null,
      "metadata": {
        "colab": {
          "base_uri": "https://localhost:8080/"
        },
        "id": "urU-azBhE0Jl",
        "outputId": "cdf3e9d7-d15e-4752-a755-f293003aebea"
      },
      "outputs": [
        {
          "output_type": "execute_result",
          "data": {
            "text/plain": [
              "(25000, 3)"
            ]
          },
          "metadata": {},
          "execution_count": 5
        }
      ],
      "source": [
        "train.shape"
      ]
    },
    {
      "cell_type": "markdown",
      "metadata": {
        "id": "XUPeGD2UE0Jm"
      },
      "source": [
        "## Metodologia\n",
        "\n",
        "O modelo selecionado para o projeto foi o Naive Bayes Classifier. Esse classificador usa a regra de Bayes para prever o output (sentimento positivo ou negativo) do modelo, dadas as informações do review, conforme descrito abaixo:\n",
        "<br />\n",
        "\n",
        "$       P(sentimento | palavra) = \\frac{P(palavra | sentimento)*P(sentimento)}{P(palavra)}$\n",
        "\n",
        "\n",
        "Em resumo, será contado o uso de palavras nos reviews resultados em cada sentimento e determinada uma probabilidade de cada palavra estar relacionada a um sentimento negativo ou positivo. \n",
        "\n",
        "Um ponto negativo do modelo, importante destacar é que ele não considera a interação entre palavras nem a ordem de aparecimento das mesmas."
      ]
    },
    {
      "cell_type": "markdown",
      "source": [
        "## Implementação"
      ],
      "metadata": {
        "id": "jdiOK1HyL5y4"
      }
    },
    {
      "cell_type": "markdown",
      "source": [
        "Inicialmente, será realizada a limpeza e tratamento dos dados. Nesse processo, as reviews foram separadas em palavras individuis excluindo stopword (ou seja, palavras vazias, que o significado não são relevantes para a análise de sentimento do texto).\n",
        "\n",
        "Todas as pontuações foram excluídas e as palavras foram colocadas em letra minúscula, para que palavras no iníicio de frase não sejam diferenciadas.\n",
        "\n",
        "Para o modelo, serão usadas as 2.000 palavras mais comuns."
      ],
      "metadata": {
        "id": "RaYJ5S3wMBge"
      }
    },
    {
      "cell_type": "code",
      "execution_count": null,
      "metadata": {
        "id": "98KBt86rE0Jr"
      },
      "outputs": [],
      "source": [
        "#!python -m nltk.downloader all\n",
        "\n",
        "stop_words = set(stopwords.words('english')) #Lista de palavras vazias\n",
        "words = []\n",
        "\n",
        "#Criando lista com palavras mais frequentes, excluindo palavras vazias\n",
        "for n in tqdm([s for s in train.review.str.split(' ')]):\n",
        "    for w in n:\n",
        "        if (w not in stop_words) & (w != ''):\n",
        "            words.append(str.lower(w))\n",
        "        else:\n",
        "            pass\n",
        "\n",
        "import string\n",
        "table = str.maketrans('', '', string.punctuation) \n",
        "words = [w.translate(table) for w in words] #excluindo pontuação\n",
        "\n",
        "all_words = nltk.FreqDist(words)\n",
        "del all_words['']\n",
        "word_features = list(all_words)[:2000]"
      ]
    },
    {
      "cell_type": "markdown",
      "source": [
        "É possível observar a lista de palavras mais comuns das reviews no gráfico abaixo. A maioria delas, aparentemente, não passa um sentimento claro em relação ao filme."
      ],
      "metadata": {
        "id": "QHyf9WlxNdaN"
      }
    },
    {
      "cell_type": "code",
      "source": [
        "all_words.plot(7)"
      ],
      "metadata": {
        "colab": {
          "base_uri": "https://localhost:8080/",
          "height": 317
        },
        "id": "HDmoLRh0GaRA",
        "outputId": "9d8fc5c8-e07b-4537-8631-ba2c141f2725"
      },
      "execution_count": null,
      "outputs": [
        {
          "output_type": "display_data",
          "data": {
            "text/plain": [
              "<Figure size 432x288 with 1 Axes>"
            ],
            "image/png": "[encoded data removed]"
          },
          "metadata": {
            "needs_background": "light"
          }
        },
        {
          "output_type": "execute_result",
          "data": {
            "text/plain": [
              "<matplotlib.axes._subplots.AxesSubplot at 0x7fbde7c89250>"
            ]
          },
          "metadata": {},
          "execution_count": 7
        }
      ]
    },
    {
      "cell_type": "code",
      "execution_count": null,
      "metadata": {
        "colab": {
          "base_uri": "https://localhost:8080/"
        },
        "id": "zPJUembFE0Jt",
        "outputId": "8634e289-ca97-4dde-ba02-293dbd5106e2"
      },
      "outputs": [
        {
          "output_type": "stream",
          "name": "stderr",
          "text": [
            "100%|██████████| 25000/25000 [00:02<00:00, 10401.16it/s]\n"
          ]
        }
      ],
      "source": [
        "#Criando arquivo com o formato para o algoritmo\n",
        "documents = []\n",
        "for i in tqdm(range(len(train))):\n",
        "    l=[]\n",
        "    for s in train.review[i].split(' '):\n",
        "        l.append(s)\n",
        "    documents.append((l,train.sentiment[i]))\n",
        "\n",
        "def document_features(document):\n",
        "    document_words = set(document)\n",
        "    features = {}\n",
        "    for word in word_features:\n",
        "        features['contains({})'.format(word)] = (word in document_words)\n",
        "    return features\n",
        "  \n",
        "featuresets = [(document_features(d), c) for (d,c) in documents]"
      ]
    },
    {
      "cell_type": "code",
      "execution_count": null,
      "metadata": {
        "id": "YAYY95zoNms0"
      },
      "outputs": [],
      "source": [
        "#Dividindo em base de treinamento e teste\n",
        "train_set, test_set = featuresets[5000:], featuresets[:5000]"
      ]
    },
    {
      "cell_type": "code",
      "execution_count": null,
      "metadata": {
        "id": "yob6Y62iE0Jx"
      },
      "outputs": [],
      "source": [
        "# Treinando o modelo\n",
        "classifier = nltk.NaiveBayesClassifier.train(train_set)"
      ]
    },
    {
      "cell_type": "markdown",
      "source": [
        "## Avaliando o modelo"
      ],
      "metadata": {
        "id": "FRDMfk6xRgXT"
      }
    },
    {
      "cell_type": "code",
      "source": [
        "classifier.show_most_informative_features(10)"
      ],
      "metadata": {
        "colab": {
          "base_uri": "https://localhost:8080/"
        },
        "id": "rmbDAbfQRkbV",
        "outputId": "24425136-359d-4144-8581-f1ebf8cffb94"
      },
      "execution_count": null,
      "outputs": [
        {
          "output_type": "stream",
          "name": "stdout",
          "text": [
            "Most Informative Features\n",
            "       contains(unfunny) = True                0 : 1      =     17.8 : 1.0\n",
            "         contains(waste) = True                0 : 1      =     13.6 : 1.0\n",
            "     contains(pointless) = True                0 : 1      =     11.9 : 1.0\n",
            "     contains(redeeming) = True                0 : 1      =      9.9 : 1.0\n",
            "         contains(worst) = True                0 : 1      =      8.9 : 1.0\n",
            "     contains(laughable) = True                0 : 1      =      8.6 : 1.0\n",
            "        contains(poorly) = True                0 : 1      =      8.4 : 1.0\n",
            "         contains(awful) = True                0 : 1      =      8.4 : 1.0\n",
            "   contains(wonderfully) = True                1 : 0      =      7.9 : 1.0\n",
            "         contains(sucks) = True                0 : 1      =      7.5 : 1.0\n"
          ]
        }
      ]
    },
    {
      "cell_type": "markdown",
      "source": [
        "O código acima traz as palavras que tem maior peso na tomada de decisão do modelo. Uma review que contém a palavra 'unfunny', por exemplo, tem a probabilidade 17,8 vezes maior de ser do grupo 0 (ter sentimento negativo) do que uma review sem essa palavra."
      ],
      "metadata": {
        "id": "sOULdm-nRqBz"
      }
    },
    {
      "cell_type": "code",
      "execution_count": null,
      "metadata": {
        "colab": {
          "base_uri": "https://localhost:8080/"
        },
        "id": "6PZSNIo7E0Jy",
        "outputId": "d05fc68c-f086-4a94-b595-0487896a6b10"
      },
      "outputs": [
        {
          "output_type": "stream",
          "name": "stdout",
          "text": [
            "0.8302\n"
          ]
        }
      ],
      "source": [
        "print(nltk.classify.accuracy(classifier, test_set))"
      ]
    },
    {
      "cell_type": "markdown",
      "source": [
        "O modelo conseguiu acertar o sentimento do review em 83,02% dos casos, quando usado na base de teste."
      ],
      "metadata": {
        "id": "u1a8W43fSGUB"
      }
    },
    {
      "cell_type": "code",
      "source": [],
      "metadata": {
        "id": "PMgYwIiSVnTT"
      },
      "execution_count": null,
      "outputs": []
    }
  ],
  "metadata": {
    "colab": {
      "provenance": []
    },
    "kernelspec": {
      "display_name": "Python 3.10.4 64-bit",
      "language": "python",
      "name": "python3"
    },
    "language_info": {
      "codemirror_mode": {
        "name": "ipython",
        "version": 3
      },
      "file_extension": ".py",
      "mimetype": "text/x-python",
      "name": "python",
      "nbconvert_exporter": "python",
      "pygments_lexer": "ipython3",
      "version": "3.10.6"
    },
    "vscode": {
      "interpreter": {
        "hash": "916dbcbb3f70747c44a77c7bcd40155683ae19c65e1c03b4aa3499c5328201f1"
      }
    }
  },
  "nbformat": 4,
  "nbformat_minor": 0
}