{
  "cells": [
    {
      "cell_type": "markdown",
      "metadata": {
        "id": "JnUe44FyE0JX"
      },
      "source": [
        "# Análise de Sentimento - Bag of Words Meets Bag of Popcorn\n",
        "\n",
        "O presente projeto foi realizado para a disciplina Programação para Aprendizagem de Máquina, da pós graduação em Ciência de Dados da Universidade Federal de Pernambuco.\n",
        "\n",
        "Foi utilizada a base de dados da competição do Kaggle \"Bag of words meet bags of popcorns\", que contém 50.000 comentários a respeito de filmes no site do IMDb. Os comentários são divididos em 2 grupos: os que foram acompanhados de notas inferiores a 5 estrelas -rotulados como 0- são de comentários com sentimento negativo a respeito do filme, os que foram acompanhados de notas superiores a 7 -rotulados com 1- são comentários com sentimento positivo.\n",
        "\n",
        "O objetivo do projeto criar um modelo para prever o sentimento do comentário."
      ]
    },
    {
      "cell_type": "markdown",
      "metadata": {
        "id": "XLFzq1qeE0Jc"
      },
      "source": [
        "## Preparando o ambiente"
      ]
    },
    {
      "cell_type": "code",
      "execution_count": 1,
      "metadata": {
        "colab": {
          "base_uri": "https://localhost:8080/"
        },
        "id": "4fe6PP4zE49F",
        "outputId": "f1ff22b8-1766-4c7a-b26a-8ae399e605f7"
      },
      "outputs": [
        {
          "name": "stdout",
          "output_type": "stream",
          "text": [
            "Mounted at /content/gdrive\n",
            "/content/gdrive/MyDrive\n"
          ]
        }
      ],
      "source": [
        "# Código para o Colab\n",
        "\n",
        "from google.colab import drive\n",
        "drive.mount('/content/gdrive', force_remount=True)\n",
        "\n",
        "%cd /content/gdrive/MyDrive/"
      ]
    },
    {
      "cell_type": "code",
      "execution_count": 2,
      "metadata": {
        "id": "8kdnTPHDE0Je"
      },
      "outputs": [],
      "source": [
        "#Importando bibliotecas relevantes\n",
        "\n",
        "import pandas as pd #Biblioteca para visualização e manipulação de dataframes\n",
        "import numpy as np #Biblioteca com métodos matemáticos como geração aleatória de números, algebra linear, etc\n",
        "\n",
        "#Bibliotecas gráficas para visualização de dados\n",
        "import matplotlib.pyplot as plt\n",
        "import seaborn as sns\n",
        "\n",
        "import nltk #Biblioteca para processamento simbólico e estatístico de linguagem natural\n",
        "from nltk.corpus import stopwords\n",
        "\n",
        "from tqdm import tqdm #Biblioteca para visualização do processamos de uma iteração"
      ]
    },
    {
      "cell_type": "code",
      "execution_count": 17,
      "metadata": {
        "id": "P1dWI53-E0Ji"
      },
      "outputs": [],
      "source": [
        "#Importando base de dados\n",
        "train = pd.read_csv('labeledTrainData.tsv',sep='\\t')\n",
        "\n",
        "train.review = [x.replace(\".\",\"\").replace(\",\",\"\").replace(\"!\",\"\").\n",
        "                replace(\"(\",\"\").replace(\")\",\"\").replace(\"?\",\"\").\n",
        "                replace(\"<br\",\"\").replace(\"<\",\"\").replace(\"\\t\",\"\")\n",
        "                .replace(\">\",\"\").replace(\"...\",\"\").replace(\"\\\\\",\"\").replace(\"\\\"\",\"\") for x in train.review]\n",
        "\n",
        "train.review\n",
        "\n",
        "test = pd.read_csv('testData.tsv',sep='\\t')\n",
        "test.review = [x.replace(\".\",\"\").replace(\",\",\"\").replace(\"!\",\"\").\n",
        "                replace(\"(\",\"\").replace(\")\",\"\").replace(\"?\",\"\").\n",
        "                replace(\"<br\",\"\").replace(\"<\",\"\").replace(\"\\t\",\"\")\n",
        "                .replace(\">\",\"\").replace(\"...\",\"\").replace(\"\\\\\",\"\").replace(\"\\\"\",\"\") for x in test.review]\n",
        "\n"
      ]
    },
    {
      "cell_type": "code",
      "execution_count": 7,
      "metadata": {
        "colab": {
          "base_uri": "https://localhost:8080/",
          "height": 206
        },
        "id": "dEvgJLAYE0Jk",
        "outputId": "c155c6c4-f039-4923-cfba-a89b3a081432"
      },
      "outputs": [
        {
          "data": {
            "text/html": [
              "\n",
              "  <div id=\"df-04b0d515-38a2-4ca6-8e84-c48ea3c32d0d\">\n",
              "    <div class=\"colab-df-container\">\n",
              "      <div>\n",
              "<style scoped>\n",
              "    .dataframe tbody tr th:only-of-type {\n",
              "        vertical-align: middle;\n",
              "    }\n",
              "\n",
              "    .dataframe tbody tr th {\n",
              "        vertical-align: top;\n",
              "    }\n",
              "\n",
              "    .dataframe thead th {\n",
              "        text-align: right;\n",
              "    }\n",
              "</style>\n",
              "<table border=\"1\" class=\"dataframe\">\n",
              "  <thead>\n",
              "    <tr style=\"text-align: right;\">\n",
              "      <th></th>\n",
              "      <th>id</th>\n",
              "      <th>sentiment</th>\n",
              "      <th>review</th>\n",
              "    </tr>\n",
              "  </thead>\n",
              "  <tbody>\n",
              "    <tr>\n",
              "      <th>0</th>\n",
              "      <td>5814_8</td>\n",
              "      <td>1</td>\n",
              "      <td>With all this stuff going down at the moment w...</td>\n",
              "    </tr>\n",
              "    <tr>\n",
              "      <th>1</th>\n",
              "      <td>2381_9</td>\n",
              "      <td>1</td>\n",
              "      <td>\\The Classic War of the Worlds\\\" by Timothy Hi...</td>\n",
              "    </tr>\n",
              "    <tr>\n",
              "      <th>2</th>\n",
              "      <td>7759_3</td>\n",
              "      <td>0</td>\n",
              "      <td>The film starts with a manager (Nicholas Bell)...</td>\n",
              "    </tr>\n",
              "    <tr>\n",
              "      <th>3</th>\n",
              "      <td>3630_4</td>\n",
              "      <td>0</td>\n",
              "      <td>It must be assumed that those who praised this...</td>\n",
              "    </tr>\n",
              "    <tr>\n",
              "      <th>4</th>\n",
              "      <td>9495_8</td>\n",
              "      <td>1</td>\n",
              "      <td>Superbly trashy and wondrously unpretentious 8...</td>\n",
              "    </tr>\n",
              "  </tbody>\n",
              "</table>\n",
              "</div>\n",
              "      <button class=\"colab-df-convert\" onclick=\"convertToInteractive('df-04b0d515-38a2-4ca6-8e84-c48ea3c32d0d')\"\n",
              "              title=\"Convert this dataframe to an interactive table.\"\n",
              "              style=\"display:none;\">\n",
              "        \n",
              "  <svg xmlns=\"http://www.w3.org/2000/svg\" height=\"24px\"viewBox=\"0 0 24 24\"\n",
              "       width=\"24px\">\n",
              "    <path d=\"M0 0h24v24H0V0z\" fill=\"none\"/>\n",
              "    <path d=\"M18.56 5.44l.94 2.06.94-2.06 2.06-.94-2.06-.94-.94-2.06-.94 2.06-2.06.94zm-11 1L8.5 8.5l.94-2.06 2.06-.94-2.06-.94L8.5 2.5l-.94 2.06-2.06.94zm10 10l.94 2.06.94-2.06 2.06-.94-2.06-.94-.94-2.06-.94 2.06-2.06.94z\"/><path d=\"M17.41 7.96l-1.37-1.37c-.4-.4-.92-.59-1.43-.59-.52 0-1.04.2-1.43.59L10.3 9.45l-7.72 7.72c-.78.78-.78 2.05 0 2.83L4 21.41c.39.39.9.59 1.41.59.51 0 1.02-.2 1.41-.59l7.78-7.78 2.81-2.81c.8-.78.8-2.07 0-2.86zM5.41 20L4 18.59l7.72-7.72 1.47 1.35L5.41 20z\"/>\n",
              "  </svg>\n",
              "      </button>\n",
              "      \n",
              "  <style>\n",
              "    .colab-df-container {\n",
              "      display:flex;\n",
              "      flex-wrap:wrap;\n",
              "      gap: 12px;\n",
              "    }\n",
              "\n",
              "    .colab-df-convert {\n",
              "      background-color: #E8F0FE;\n",
              "      border: none;\n",
              "      border-radius: 50%;\n",
              "      cursor: pointer;\n",
              "      display: none;\n",
              "      fill: #1967D2;\n",
              "      height: 32px;\n",
              "      padding: 0 0 0 0;\n",
              "      width: 32px;\n",
              "    }\n",
              "\n",
              "    .colab-df-convert:hover {\n",
              "      background-color: #E2EBFA;\n",
              "      box-shadow: 0px 1px 2px rgba(60, 64, 67, 0.3), 0px 1px 3px 1px rgba(60, 64, 67, 0.15);\n",
              "      fill: #174EA6;\n",
              "    }\n",
              "\n",
              "    [theme=dark] .colab-df-convert {\n",
              "      background-color: #3B4455;\n",
              "      fill: #D2E3FC;\n",
              "    }\n",
              "\n",
              "    [theme=dark] .colab-df-convert:hover {\n",
              "      background-color: #434B5C;\n",
              "      box-shadow: 0px 1px 3px 1px rgba(0, 0, 0, 0.15);\n",
              "      filter: drop-shadow(0px 1px 2px rgba(0, 0, 0, 0.3));\n",
              "      fill: #FFFFFF;\n",
              "    }\n",
              "  </style>\n",
              "\n",
              "      <script>\n",
              "        const buttonEl =\n",
              "          document.querySelector('#df-04b0d515-38a2-4ca6-8e84-c48ea3c32d0d button.colab-df-convert');\n",
              "        buttonEl.style.display =\n",
              "          google.colab.kernel.accessAllowed ? 'block' : 'none';\n",
              "\n",
              "        async function convertToInteractive(key) {\n",
              "          const element = document.querySelector('#df-04b0d515-38a2-4ca6-8e84-c48ea3c32d0d');\n",
              "          const dataTable =\n",
              "            await google.colab.kernel.invokeFunction('convertToInteractive',\n",
              "                                                     [key], {});\n",
              "          if (!dataTable) return;\n",
              "\n",
              "          const docLinkHtml = 'Like what you see? Visit the ' +\n",
              "            '<a target=\"_blank\" href=https://colab.research.google.com/notebooks/data_table.ipynb>data table notebook</a>'\n",
              "            + ' to learn more about interactive tables.';\n",
              "          element.innerHTML = '';\n",
              "          dataTable['output_type'] = 'display_data';\n",
              "          await google.colab.output.renderOutput(dataTable, element);\n",
              "          const docLink = document.createElement('div');\n",
              "          docLink.innerHTML = docLinkHtml;\n",
              "          element.appendChild(docLink);\n",
              "        }\n",
              "      </script>\n",
              "    </div>\n",
              "  </div>\n",
              "  "
            ],
            "text/plain": [
              "       id  sentiment                                             review\n",
              "0  5814_8          1  With all this stuff going down at the moment w...\n",
              "1  2381_9          1  \\The Classic War of the Worlds\\\" by Timothy Hi...\n",
              "2  7759_3          0  The film starts with a manager (Nicholas Bell)...\n",
              "3  3630_4          0  It must be assumed that those who praised this...\n",
              "4  9495_8          1  Superbly trashy and wondrously unpretentious 8..."
            ]
          },
          "execution_count": 7,
          "metadata": {},
          "output_type": "execute_result"
        }
      ],
      "source": [
        "train.head()"
      ]
    },
    {
      "cell_type": "code",
      "execution_count": 8,
      "metadata": {
        "colab": {
          "base_uri": "https://localhost:8080/"
        },
        "id": "urU-azBhE0Jl",
        "outputId": "191d330a-a485-43aa-83c5-1640790f98bd"
      },
      "outputs": [
        {
          "data": {
            "text/plain": [
              "(25000, 3)"
            ]
          },
          "execution_count": 8,
          "metadata": {},
          "output_type": "execute_result"
        }
      ],
      "source": [
        "train.shape"
      ]
    },
    {
      "cell_type": "markdown",
      "metadata": {
        "id": "XUPeGD2UE0Jm"
      },
      "source": [
        "## Metodologia\n",
        "\n",
        "O modelo selecionado para o projeto foi o Naive Bayes Classifier. Esse classificador usa a regra de Bayes para prever o output (sentimento positivo ou negativo) do modelo, dadas as informações do review, conforme descrito abaixo:\n",
        "<br />\n",
        "\n",
        "$       P(sentimento | review) = \\frac{P(review | sentimento)*P(sentimento)}{P(review)}$\n",
        "\n",
        "<br />\n",
        "Em resumo, será contado o uso de palavras nos reviews resultados em cada sentimento e determinada uma probabilidade de cada palavra estar relacionada a um sentimento negativo ou positivo.\n",
        "\n",
        "É importante destacar que o modelo não considera a interação entre palavras nem a ordem de aparecimento das mesmas."
      ]
    },
    {
      "cell_type": "code",
      "execution_count": 7,
      "metadata": {
        "colab": {
          "base_uri": "https://localhost:8080/"
        },
        "id": "98KBt86rE0Jr",
        "outputId": "a338e14c-e193-4251-adfb-47ba5c90ab42"
      },
      "outputs": [
        {
          "name": "stderr",
          "output_type": "stream",
          "text": [
            "100%|██████████| 25000/25000 [00:01<00:00, 16315.92it/s]\n"
          ]
        }
      ],
      "source": [
        "stop_words = set(stopwords.words('english'))\n",
        "words = []\n",
        "for n in tqdm([s for s in train.review.str.split(' ')]):\n",
        "    for w in n:\n",
        "        if w not in stop_words:\n",
        "            words.append(w)\n",
        "        else:\n",
        "            pass\n",
        "all_words = nltk.FreqDist(words)\n",
        "word_features = word_features[:2000]"
      ]
    },
    {
      "cell_type": "code",
      "execution_count": 13,
      "metadata": {
        "colab": {
          "base_uri": "https://localhost:8080/"
        },
        "id": "zPJUembFE0Jt",
        "outputId": "1870ca0e-2308-4e20-eb74-32485d87a49f"
      },
      "outputs": [
        {
          "name": "stderr",
          "output_type": "stream",
          "text": [
            "100%|██████████| 25000/25000 [00:02<00:00, 9269.83it/s]\n"
          ]
        }
      ],
      "source": [
        "documents = []\n",
        "for i in tqdm(range(len(train))):\n",
        "    l=[]\n",
        "    for s in train.review[i].split(' '):\n",
        "        l.append(s)\n",
        "    documents.append((l,train.sentiment[i]))"
      ]
    },
    {
      "cell_type": "code",
      "execution_count": 10,
      "metadata": {
        "id": "Mzx4kdq-E0Jv"
      },
      "outputs": [],
      "source": [
        "def document_features(document):\n",
        "    document_words = set(document)\n",
        "    features = {}\n",
        "    for word in word_features:\n",
        "        features['contains({})'.format(word)] = (word in document_words)\n",
        "    return features"
      ]
    },
    {
      "cell_type": "code",
      "execution_count": 15,
      "metadata": {
        "id": "DVX9Z-1FE0Jw"
      },
      "outputs": [],
      "source": [
        "featuresets = [(document_features(d), c) for (d,c) in documents]"
      ]
    },
    {
      "cell_type": "code",
      "execution_count": 18,
      "metadata": {
        "id": "YAYY95zoNms0"
      },
      "outputs": [],
      "source": [
        "train_set, test_set = featuresets[100:], featuresets[:100]"
      ]
    },
    {
      "cell_type": "code",
      "execution_count": 19,
      "metadata": {
        "id": "yob6Y62iE0Jx"
      },
      "outputs": [],
      "source": [
        "classifier = nltk.NaiveBayesClassifier.train(train_set)"
      ]
    },
    {
      "cell_type": "code",
      "execution_count": 20,
      "metadata": {
        "colab": {
          "base_uri": "https://localhost:8080/"
        },
        "id": "6PZSNIo7E0Jy",
        "outputId": "1c995fcc-9c32-40be-df08-30d0de8070c5"
      },
      "outputs": [
        {
          "name": "stdout",
          "output_type": "stream",
          "text": [
            "0.79\n"
          ]
        }
      ],
      "source": [
        "print(nltk.classify.accuracy(classifier, test_set))"
      ]
    },
    {
      "cell_type": "code",
      "execution_count": 22,
      "metadata": {
        "colab": {
          "base_uri": "https://localhost:8080/"
        },
        "id": "luU6xI0rE0Jy",
        "outputId": "0d38cbbf-11b0-458f-d80e-f5fcd6ed56e4"
      },
      "outputs": [
        {
          "name": "stdout",
          "output_type": "stream",
          "text": [
            "Most Informative Features\n",
            "       contains(unfunny) = True                0 : 1      =     15.7 : 1.0\n",
            "         contains(waste) = True                0 : 1      =     13.5 : 1.0\n",
            "     contains(redeeming) = True                0 : 1      =     10.0 : 1.0\n",
            "     contains(pointless) = True                0 : 1      =     10.0 : 1.0\n",
            "         contains(worst) = True                0 : 1      =      9.0 : 1.0\n",
            "     contains(laughable) = True                0 : 1      =      8.6 : 1.0\n",
            "         contains(awful) = True                0 : 1      =      8.5 : 1.0\n",
            "        contains(poorly) = True                0 : 1      =      8.2 : 1.0\n",
            "   contains(wonderfully) = True                1 : 0      =      7.8 : 1.0\n",
            "         contains(sucks) = True                0 : 1      =      6.9 : 1.0\n"
          ]
        }
      ],
      "source": [
        "classifier.show_most_informative_features(10)"
      ]
    },
    {
      "cell_type": "code",
      "execution_count": null,
      "metadata": {
        "id": "pXerc8E0OCsz"
      },
      "outputs": [],
      "source": []
    }
  ],
  "metadata": {
    "colab": {
      "provenance": []
    },
    "kernelspec": {
      "display_name": "Python 3.10.4 64-bit",
      "language": "python",
      "name": "python3"
    },
    "language_info": {
      "codemirror_mode": {
        "name": "ipython",
        "version": 3
      },
      "file_extension": ".py",
      "mimetype": "text/x-python",
      "name": "python",
      "nbconvert_exporter": "python",
      "pygments_lexer": "ipython3",
      "version": "3.10.6"
    },
    "orig_nbformat": 4,
    "vscode": {
      "interpreter": {
        "hash": "916dbcbb3f70747c44a77c7bcd40155683ae19c65e1c03b4aa3499c5328201f1"
      }
    }
  },
  "nbformat": 4,
  "nbformat_minor": 0
}
